{
 "cells": [
  {
   "cell_type": "markdown",
   "metadata": {},
   "source": [
    "예스 24 크롤링"
   ]
  },
  {
   "cell_type": "code",
   "execution_count": 2,
   "metadata": {},
   "outputs": [],
   "source": [
    "#webdriver-manager 라이브러리 불러오기\n",
    "\n",
    "from selenium import webdriver\n",
    "from webdriver_manager.chrome import ChromeDriverManager\n",
    "ChromeDriverManager().install()\n",
    "\n",
    "browser = webdriver.Chrome()"
   ]
  },
  {
   "cell_type": "code",
   "execution_count": 7,
   "metadata": {},
   "outputs": [],
   "source": [
    "from selenium import webdriver\n",
    "browser = webdriver.Chrome()\n"
   ]
  },
  {
   "cell_type": "code",
   "execution_count": 8,
   "metadata": {},
   "outputs": [],
   "source": [
    "url = 'https://google.com'\n",
    "browser.get(url)"
   ]
  },
  {
   "cell_type": "code",
   "execution_count": 10,
   "metadata": {},
   "outputs": [
    {
     "data": {
      "text/plain": [
       "'대한민국'"
      ]
     },
     "execution_count": 10,
     "metadata": {},
     "output_type": "execute_result"
    }
   ],
   "source": [
    "from selenium.webdriver.common.by import By\n",
    "browser.find_element(By.CLASS_NAME, 'uU7dJb').text\n"
   ]
  },
  {
   "cell_type": "code",
   "execution_count": 11,
   "metadata": {},
   "outputs": [],
   "source": [
    "url = 'https://www.yes24.com/Product/Category/BestSeller?categoryNumber=001&pageNumber=1&pageSize=24'\n",
    "\n",
    "browser.get(url)"
   ]
  },
  {
   "cell_type": "code",
   "execution_count": null,
   "metadata": {},
   "outputs": [],
   "source": [
    "# 1페이지의 링크 데이터 전부 수집\n",
    "\n",
    "### 한 개의 베스트 셀러 링크 수집\n",
    "browser.find_element(By.CLASS_NAME, 'gd_name').get_attribute('href')\n",
    "\n",
    "### 1페이지 전체의 링크 데이터\n",
    "#browser.find_element(By.CLASS_NAME, 'gd_name') # element: 요소\n",
    "datas = browser.find_elements(By.CLASS_NAME, 'gd_name') # elements: 리스트\n",
    "\n",
    "for i in datas:\n",
    "    print(i.get_attribute('href'))\n"
   ]
  },
  {
   "cell_type": "code",
   "execution_count": 15,
   "metadata": {},
   "outputs": [
    {
     "name": "stdout",
     "output_type": "stream",
     "text": [
      "********** 현제 1 페이지 수집 중 입니다. **********\n",
      "********** 현제 2 페이지 수집 중 입니다. **********\n",
      "********** 현제 3 페이지 수집 중 입니다. **********\n",
      "['https://www.yes24.com/Product/Goods/123930891', 'https://www.yes24.com/Product/Goods/129868692', 'https://www.yes24.com/Product/Goods/125005783', 'https://www.yes24.com/Product/Goods/67362730', 'https://www.yes24.com/Product/Goods/129868701', 'https://www.yes24.com/Product/Goods/131929977', 'https://www.yes24.com/Product/Goods/125295101', 'https://www.yes24.com/Product/Goods/131197006', 'https://www.yes24.com/Product/Goods/128939189', 'https://www.yes24.com/Product/Goods/132005760', 'https://www.yes24.com/Product/Goods/130135671', 'https://www.yes24.com/Product/Goods/129868658', 'https://www.yes24.com/Product/Goods/11081680', 'https://www.yes24.com/Product/Goods/125384202', 'https://www.yes24.com/Product/Goods/129132125', 'https://www.yes24.com/Product/Goods/130339423', 'https://www.yes24.com/Product/Goods/129054040', 'https://www.yes24.com/Product/Goods/124622440', 'https://www.yes24.com/Product/Goods/2944911', 'https://www.yes24.com/Product/Goods/2312211', 'https://www.yes24.com/Product/Goods/102791425', 'https://www.yes24.com/Product/Goods/123675187', 'https://www.yes24.com/Product/Goods/126511412', 'https://www.yes24.com/Product/Goods/28995741', 'https://www.yes24.com/Product/Goods/123930891', 'https://www.yes24.com/Product/Goods/129868692', 'https://www.yes24.com/Product/Goods/125005783', 'https://www.yes24.com/Product/Goods/67362730', 'https://www.yes24.com/Product/Goods/129868701', 'https://www.yes24.com/Product/Goods/131929977', 'https://www.yes24.com/Product/Goods/125295101', 'https://www.yes24.com/Product/Goods/131197006', 'https://www.yes24.com/Product/Goods/128939189', 'https://www.yes24.com/Product/Goods/132005760', 'https://www.yes24.com/Product/Goods/130135671', 'https://www.yes24.com/Product/Goods/129868658', 'https://www.yes24.com/Product/Goods/11081680', 'https://www.yes24.com/Product/Goods/125384202', 'https://www.yes24.com/Product/Goods/129132125', 'https://www.yes24.com/Product/Goods/130339423', 'https://www.yes24.com/Product/Goods/129054040', 'https://www.yes24.com/Product/Goods/124622440', 'https://www.yes24.com/Product/Goods/2944911', 'https://www.yes24.com/Product/Goods/2312211', 'https://www.yes24.com/Product/Goods/102791425', 'https://www.yes24.com/Product/Goods/123675187', 'https://www.yes24.com/Product/Goods/126511412', 'https://www.yes24.com/Product/Goods/28995741', 'https://www.yes24.com/Product/Goods/123930891', 'https://www.yes24.com/Product/Goods/129868692', 'https://www.yes24.com/Product/Goods/125005783', 'https://www.yes24.com/Product/Goods/67362730', 'https://www.yes24.com/Product/Goods/129868701', 'https://www.yes24.com/Product/Goods/131929977', 'https://www.yes24.com/Product/Goods/125295101', 'https://www.yes24.com/Product/Goods/131197006', 'https://www.yes24.com/Product/Goods/128939189', 'https://www.yes24.com/Product/Goods/132005760', 'https://www.yes24.com/Product/Goods/130135671', 'https://www.yes24.com/Product/Goods/129868658', 'https://www.yes24.com/Product/Goods/11081680', 'https://www.yes24.com/Product/Goods/125384202', 'https://www.yes24.com/Product/Goods/129132125', 'https://www.yes24.com/Product/Goods/130339423', 'https://www.yes24.com/Product/Goods/129054040', 'https://www.yes24.com/Product/Goods/124622440', 'https://www.yes24.com/Product/Goods/2944911', 'https://www.yes24.com/Product/Goods/2312211', 'https://www.yes24.com/Product/Goods/102791425', 'https://www.yes24.com/Product/Goods/123675187', 'https://www.yes24.com/Product/Goods/126511412', 'https://www.yes24.com/Product/Goods/28995741']\n"
     ]
    }
   ],
   "source": [
    "# 3페이지의 링크 데이터 전부 수집\n",
    "# https://www.yes24.com/Product/Category/BestSeller?categoryNumber=001&pageNumber=1&pageSize=24\n",
    "# https://www.yes24.com/Product/Category/BestSeller?categoryNumber=001&pageNumber=2&pageSize=24\n",
    "# https://www.yes24.com/Product/Category/BestSeller?categoryNumber=001&pageNumber=3&pageSize=24\n",
    "\n",
    "import time\n",
    "\n",
    "link_list = []\n",
    "for i in range(1,4):\n",
    "    print(\"*\" * 10, f\"현제 {i} 페이지 수집 중 입니다.\", \"*\" * 10)\n",
    "    url = f'# https://www.yes24.com/Product/Category/BestSeller?categoryNumber=001&pageNumber=[i]&pageSize=24'\n",
    "\n",
    "### 1페이지 전체의 링크 데이터\n",
    "#browser.find_element(By.CLASS_NAME, 'gd_name') # element: 요소\n",
    "    datas = browser.find_elements(By.CLASS_NAME, 'gd_name') # elements: 리스트\n",
    "\n",
    "    for i in datas:\n",
    "        link = i.get_attribute('href')\n",
    "\n",
    "        link_list.append(link)\n",
    "    time.sleep(3)\n",
    "\n",
    "print(link_list)\n"
   ]
  },
  {
   "cell_type": "code",
   "execution_count": 16,
   "metadata": {},
   "outputs": [
    {
     "data": {
      "text/plain": [
       "72"
      ]
     },
     "execution_count": 16,
     "metadata": {},
     "output_type": "execute_result"
    }
   ],
   "source": [
    "len(link_list)"
   ]
  },
  {
   "cell_type": "code",
   "execution_count": 40,
   "metadata": {},
   "outputs": [
    {
     "data": {
      "text/plain": [
       "'국내도서 top20 11주'"
      ]
     },
     "execution_count": 40,
     "metadata": {},
     "output_type": "execute_result"
    }
   ],
   "source": [
    "#for link in link_list:\n",
    "    # 상세 페이지로 이동\n",
    "#    browser.get(link)\n",
    "\n",
    "browser.get(link_list[0])\n",
    "\n",
    "title = browser.find_element(By.CLASS_NAME, 'gd_name').text\n",
    "author = browser.find_element(By.CLASS_NAME, 'gd_auth').text\n",
    "publisher = browser.find_element(By.CLASS_NAME, 'gd_pub').text\n",
    "publishing = browser.find_element(By.CLASS_NAME, 'gd_date').text\n",
    "rating = browser.find_element(By.CLASS_NAME, 'yes_b').text\n",
    "reviews = browser.find_element(By.CLASS_NAME, 'txC_blue').text\n",
    "sales = browser.find_element(By.CLASS_NAME, 'gd_sellNum').text.split(\" \")[2]\n",
    "price = browser.find_element(By.CLASS_NAME, 'yes_m').text[:-1]\n",
    "ranking = browser.find_element(By.CLASS_NAME, 'gd_best').text.split(\" | \")[0]\n",
    "ranking_weeks = browser.find_element(By.CLASS_NAME, 'gd_best').text.split(\" | \")[1]\n",
    "\n",
    "ranking_weeks\n"
   ]
  },
  {
   "cell_type": "code",
   "execution_count": 29,
   "metadata": {},
   "outputs": [
    {
     "data": {
      "text/plain": [
       "'332,208'"
      ]
     },
     "execution_count": 29,
     "metadata": {},
     "output_type": "execute_result"
    }
   ],
   "source": [
    "text = \"'| 판매지수 332,208 판매지수란?'\"\n",
    "text.split(\" \")[2]"
   ]
  },
  {
   "cell_type": "code",
   "execution_count": 38,
   "metadata": {},
   "outputs": [
    {
     "data": {
      "text/plain": [
       "\"'베스트 국내도서 49위\""
      ]
     },
     "execution_count": 38,
     "metadata": {},
     "output_type": "execute_result"
    }
   ],
   "source": [
    "text = \"'베스트 국내도서 49위 | 국내도서 top20 11주'\"\n",
    "\n",
    "text.split(\" | \")[0]"
   ]
  },
  {
   "cell_type": "code",
   "execution_count": null,
   "metadata": {},
   "outputs": [],
   "source": [
    "# 상세 페이지 이동 후 데이터 크롤링\n"
   ]
  }
 ],
 "metadata": {
  "kernelspec": {
   "display_name": "Python 3",
   "language": "python",
   "name": "python3"
  },
  "language_info": {
   "codemirror_mode": {
    "name": "ipython",
    "version": 3
   },
   "file_extension": ".py",
   "mimetype": "text/x-python",
   "name": "python",
   "nbconvert_exporter": "python",
   "pygments_lexer": "ipython3",
   "version": "3.9.0"
  }
 },
 "nbformat": 4,
 "nbformat_minor": 2
}
